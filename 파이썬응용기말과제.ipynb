{
 "cells": [
  {
   "cell_type": "code",
   "execution_count": 1,
   "id": "1f79e58e",
   "metadata": {},
   "outputs": [],
   "source": [
    "import selenium\n",
    "from selenium import webdriver as wb\n",
    "from selenium.webdriver.common.keys import Keys\n",
    "from bs4 import BeautifulSoup as bs\n",
    "import pandas as pd\n",
    "import time"
   ]
  },
  {
   "cell_type": "code",
   "execution_count": 2,
   "id": "8cb6afc3",
   "metadata": {},
   "outputs": [
    {
     "name": "stdout",
     "output_type": "stream",
     "text": [
      "키워드를 입력하세요:공부할때듣는노래\n"
     ]
    }
   ],
   "source": [
    "keyword=input(\"키워드를 입력하세요:\")\n",
    "\n",
    "url = 'https://www.youtube.com/results?search_query={}'.format(keyword)"
   ]
  },
  {
   "cell_type": "code",
   "execution_count": 3,
   "id": "b3afe504",
   "metadata": {},
   "outputs": [],
   "source": [
    "driver = wb.Chrome() \n",
    "driver.get(url)\n",
    "soup = bs(driver.page_source, 'lxml')"
   ]
  },
  {
   "cell_type": "code",
   "execution_count": 5,
   "id": "cbb77b37",
   "metadata": {
    "scrolled": false
   },
   "outputs": [
    {
     "name": "stderr",
     "output_type": "stream",
     "text": [
      "<ipython-input-5-a2890f9a5356>:2: DeprecationWarning: find_element_by_* commands are deprecated. Please use find_element() instead\n",
      "  body = driver.find_element_by_tag_name('body')\n"
     ]
    }
   ],
   "source": [
    "#페이지 다운\n",
    "body = driver.find_element_by_tag_name('body')\n",
    "body.send_keys(Keys.PAGE_DOWN)"
   ]
  },
  {
   "cell_type": "code",
   "execution_count": 6,
   "id": "976b087b",
   "metadata": {},
   "outputs": [],
   "source": [
    "#조건에 맞게 페이지를 다운시킴\n",
    "for i in range(1,31):\n",
    "    body.send_keys(Keys.PAGE_DOWN)\n",
    "    time.sleep(0.3)"
   ]
  },
  {
   "cell_type": "code",
   "execution_count": 15,
   "id": "68817386",
   "metadata": {
    "scrolled": true
   },
   "outputs": [],
   "source": [
    "title =soup.select('a#video-title')\n",
    "video_url = soup.select('a#video-title')\n",
    "view = soup.select('a#video-title')"
   ]
  },
  {
   "cell_type": "code",
   "execution_count": 16,
   "id": "b37bf1ee",
   "metadata": {
    "scrolled": true
   },
   "outputs": [
    {
     "name": "stdout",
     "output_type": "stream",
     "text": [
      "['공부할때 듣는 음악 모음♬ (집중력 높이는 음악) |아련한, 슬픈, 잔잔한 음악 1시간', '[지브리 스튜디오] 공부할때, 일할때 듣기좋은 음악 모음 12시간(검은화면) (12hours)(피아노)(Relaxing Piano Studio Ghibli Collection)', '[𝒑𝒍𝒂𝒚𝒍𝒊𝒔𝒕] 이번 과제는 진짜 A+ 각이다. | 과제할 때 듣기 좋은 노래 모음', '🔥 공부할 때 듣는 장작 타는 소리 / Fireplace sound', '강성태가 공부할 때 듣는 음악ㅣ피아노 연주곡 ASMR  📚 STUDY MUSIC for Improving Concentration, Focus, Memory', '누구도 날 방해 못 해...🎻 귀족 빙의되는 클래식 음악🎹 [motemote│모트모트│𝐒𝐓𝐔𝐃𝐘 𝐌𝐎𝐎𝐃│공부할 때 듣는 음악│1시간]', '24/7 Merry Christmas🎄성탄절을 기다리며 듣는 설레는 연주곡🎅 l Happy Christmas Music l ハッピークリスマスミュージック⛄', '[inflaylist] 공부/작업 할 때 집중해서 듣기 좋은 음악✍ | 4 hour playlist | lofi, piano | 직장인 | 대학생 | 프리랜서 | 취준생', '[ 𝐩𝐥𝐚𝐲𝐥𝐢𝐬𝐭 ] 공부할 때 듣는 적당히 신나는 팝송', '집중과 편안함에 도움을 주는 피아노 연주 ⎮ 중간광고없음 ⎮ 집중 공부 힐링 휴식 감성 명상 태교음악 카페음악', '🌈공부할 때 듣기 좋은 너의 이름은(君の名は) OST 전곡 모음 (piano ver.) 🌈', '[playlist] 이거 들으면서 공부하면 2시간 쌉가능', '내가 새벽 공부할 때 들으려고 만든 집중 잘 되는 음악📖🌙 [ 𝙉𝙞𝙜𝙝𝙩 & 𝙙𝙖𝙬𝙣 𝙨𝙩𝙪𝙙𝙮 𝙥𝙡𝙖𝙮𝙡𝙞𝙨𝙩 ]', '공부할때 듣는 음악 모음♬ (집중력 높이는 음악) |아련한, 슬픈, 잔잔한 음악 1시간', '고3 수험생활 버티게 해준 노래들 【𝗺𝗼𝘁𝗲𝗺𝗼𝘁𝗲｜𝗣𝗹𝗮𝘆𝗹𝗶𝘀𝘁】', '[𝙋𝙡𝙖𝙮𝙡𝙞𝙨𝙩] 문과생이 수학 풀 때 듣는 팝송', 'new 1시간 집중력 높이는 음악,공부할 때 듣는 음악, 차분해지고 집중력 높이는 노래', '[ 𝑷𝒍𝒂𝒚𝒍𝒊𝒔𝒕 ]  코딩할때 듣기 좋은 노래 • lofi type beat • 3 hours', '공부할때 듣기 좋은 음악🎵Relaxing Sleep Music & Study,  Rain ASMR 24/7', '수학 풀 때 듣는 노래📀 집중력을 올려주는 팝송 모음👩\\u200d💻  [motemote│모트모트│𝐒𝐓𝐔𝐃𝐘 𝐌𝐎𝐎𝐃│스터디무드│공부할때 듣는 음악│플레이리스트│Playlist]', '왕실 서열 2위가 공부할 때 듣는👑 가사 없는 클래식 음악🎻', '공부할 때 듣는 가사 없는 애니 OST 🎹 【𝐦𝐨𝐭𝐞𝐦𝐨𝐭𝐞｜𝐩𝐥𝐚𝐲𝐥𝐢𝐬𝐭｜모트모트｜플레이리스트】', '[5시간]암기 잘되는 음악 | 암기 효율 299% | 외우지 않아도 암기 | ASMR | 백색소음 ★ 공신 강성태']\n",
      "['21,503,531회', '6,353,230회', '1,168,819회', '3,308,845회', '15,638,070회', '739,650회', '202,171회', '685,311회', '1,363,568회', '11,923,614회', '1,198,171회', '390,163회', '445,136회', '8,730,407회', '198,371회', '180,578회', '2,646,670회', '17,752,541회', '13,428,993회', '1,507,904회', '211,783회', '1,326,025회', '4,061,601회']\n",
      "['https://www.youtube.com/watch?v=uw_elzX7Oo4', 'https://www.youtube.com/watch?v=wnudr9qjrbA', 'https://www.youtube.com/watch?v=1sTc7I20u3A', 'https://www.youtube.com/watch?v=2TrgSww4Wf8', 'https://www.youtube.com/watch?v=Vzv5HHehLg8', 'https://www.youtube.com/watch?v=4wKTZsUp7TQ', 'https://www.youtube.com/watch?v=eUTbn0XS-kg', 'https://www.youtube.com/watch?v=qMwzWk81tVM', 'https://www.youtube.com/watch?v=IO5u1m0TsJw', 'https://www.youtube.com/watch?v=Q-iEfzaikBI', 'https://www.youtube.com/watch?v=EkRuV-h6Bv0', 'https://www.youtube.com/watch?v=R5nt_sChOKk', 'https://www.youtube.com/watch?v=nA8TEa7LYjA', 'https://www.youtube.com/watch?v=IJ0kurZy1DE', 'https://www.youtube.com/watch?v=5MICMjVjAhA', 'https://www.youtube.com/watch?v=NymB3hmRg4w', 'https://www.youtube.com/watch?v=C5bOu0OL6Ec', 'https://www.youtube.com/watch?v=cbuZfY2S2UQ', 'https://www.youtube.com/watch?v=pjqXFo73BzA', 'https://www.youtube.com/watch?v=OD38cX7smr0', 'https://www.youtube.com/watch?v=kuvFxFKYrCI', 'https://www.youtube.com/watch?v=I3OFk6tF9cI', 'https://www.youtube.com/watch?v=Lk-Mf4iGyfY']\n"
     ]
    }
   ],
   "source": [
    "title_list = []\n",
    "url_list = []\n",
    "view_list = []\n",
    "\n",
    "for i in range(len(title)):\n",
    "    title_list.append(title[i].text.strip())\n",
    "    view_list.append(view[i].get('aria-label').split()[-1])\n",
    "    #split()으로 문자열을 나누어줌, 마지막값이 조회수이기 때문에 -1해준다.\n",
    "for i in video_url:\n",
    "    url_list.append('{}{}'.format('https://www.youtube.com',i.get('href')))\n",
    "print(title_list)\n",
    "print(view_list)\n",
    "print(url_list)"
   ]
  },
  {
   "cell_type": "code",
   "execution_count": 17,
   "id": "2a871f12",
   "metadata": {
    "scrolled": true
   },
   "outputs": [
    {
     "data": {
      "text/html": [
       "<div>\n",
       "<style scoped>\n",
       "    .dataframe tbody tr th:only-of-type {\n",
       "        vertical-align: middle;\n",
       "    }\n",
       "\n",
       "    .dataframe tbody tr th {\n",
       "        vertical-align: top;\n",
       "    }\n",
       "\n",
       "    .dataframe thead th {\n",
       "        text-align: right;\n",
       "    }\n",
       "</style>\n",
       "<table border=\"1\" class=\"dataframe\">\n",
       "  <thead>\n",
       "    <tr style=\"text-align: right;\">\n",
       "      <th></th>\n",
       "      <th>제목</th>\n",
       "      <th>URL</th>\n",
       "      <th>조회수</th>\n",
       "    </tr>\n",
       "  </thead>\n",
       "  <tbody>\n",
       "    <tr>\n",
       "      <th>0</th>\n",
       "      <td>공부할때 듣는 음악 모음♬ (집중력 높이는 음악) |아련한, 슬픈, 잔잔한 음악 1시간</td>\n",
       "      <td>https://www.youtube.com/watch?v=uw_elzX7Oo4</td>\n",
       "      <td>21,503,531회</td>\n",
       "    </tr>\n",
       "    <tr>\n",
       "      <th>1</th>\n",
       "      <td>[지브리 스튜디오] 공부할때, 일할때 듣기좋은 음악 모음 12시간(검은화면) (12...</td>\n",
       "      <td>https://www.youtube.com/watch?v=wnudr9qjrbA</td>\n",
       "      <td>6,353,230회</td>\n",
       "    </tr>\n",
       "    <tr>\n",
       "      <th>2</th>\n",
       "      <td>[𝒑𝒍𝒂𝒚𝒍𝒊𝒔𝒕] 이번 과제는 진짜 A+ 각이다. | 과제할 때 듣기 좋은 노래 모음</td>\n",
       "      <td>https://www.youtube.com/watch?v=1sTc7I20u3A</td>\n",
       "      <td>1,168,819회</td>\n",
       "    </tr>\n",
       "    <tr>\n",
       "      <th>3</th>\n",
       "      <td>🔥 공부할 때 듣는 장작 타는 소리 / Fireplace sound</td>\n",
       "      <td>https://www.youtube.com/watch?v=2TrgSww4Wf8</td>\n",
       "      <td>3,308,845회</td>\n",
       "    </tr>\n",
       "    <tr>\n",
       "      <th>4</th>\n",
       "      <td>강성태가 공부할 때 듣는 음악ㅣ피아노 연주곡 ASMR  📚 STUDY MUSIC f...</td>\n",
       "      <td>https://www.youtube.com/watch?v=Vzv5HHehLg8</td>\n",
       "      <td>15,638,070회</td>\n",
       "    </tr>\n",
       "    <tr>\n",
       "      <th>5</th>\n",
       "      <td>누구도 날 방해 못 해...🎻 귀족 빙의되는 클래식 음악🎹 [motemote│모트모...</td>\n",
       "      <td>https://www.youtube.com/watch?v=4wKTZsUp7TQ</td>\n",
       "      <td>739,650회</td>\n",
       "    </tr>\n",
       "    <tr>\n",
       "      <th>6</th>\n",
       "      <td>24/7 Merry Christmas🎄성탄절을 기다리며 듣는 설레는 연주곡🎅 l H...</td>\n",
       "      <td>https://www.youtube.com/watch?v=eUTbn0XS-kg</td>\n",
       "      <td>202,171회</td>\n",
       "    </tr>\n",
       "    <tr>\n",
       "      <th>7</th>\n",
       "      <td>[inflaylist] 공부/작업 할 때 집중해서 듣기 좋은 음악✍ | 4 hour...</td>\n",
       "      <td>https://www.youtube.com/watch?v=qMwzWk81tVM</td>\n",
       "      <td>685,311회</td>\n",
       "    </tr>\n",
       "    <tr>\n",
       "      <th>8</th>\n",
       "      <td>[ 𝐩𝐥𝐚𝐲𝐥𝐢𝐬𝐭 ] 공부할 때 듣는 적당히 신나는 팝송</td>\n",
       "      <td>https://www.youtube.com/watch?v=IO5u1m0TsJw</td>\n",
       "      <td>1,363,568회</td>\n",
       "    </tr>\n",
       "    <tr>\n",
       "      <th>9</th>\n",
       "      <td>집중과 편안함에 도움을 주는 피아노 연주 ⎮ 중간광고없음 ⎮ 집중 공부 힐링 휴식 ...</td>\n",
       "      <td>https://www.youtube.com/watch?v=Q-iEfzaikBI</td>\n",
       "      <td>11,923,614회</td>\n",
       "    </tr>\n",
       "    <tr>\n",
       "      <th>10</th>\n",
       "      <td>🌈공부할 때 듣기 좋은 너의 이름은(君の名は) OST 전곡 모음 (piano ver...</td>\n",
       "      <td>https://www.youtube.com/watch?v=EkRuV-h6Bv0</td>\n",
       "      <td>1,198,171회</td>\n",
       "    </tr>\n",
       "    <tr>\n",
       "      <th>11</th>\n",
       "      <td>[playlist] 이거 들으면서 공부하면 2시간 쌉가능</td>\n",
       "      <td>https://www.youtube.com/watch?v=R5nt_sChOKk</td>\n",
       "      <td>390,163회</td>\n",
       "    </tr>\n",
       "    <tr>\n",
       "      <th>12</th>\n",
       "      <td>내가 새벽 공부할 때 들으려고 만든 집중 잘 되는 음악📖🌙 [ 𝙉𝙞𝙜𝙝𝙩 &amp; 𝙙𝙖𝙬...</td>\n",
       "      <td>https://www.youtube.com/watch?v=nA8TEa7LYjA</td>\n",
       "      <td>445,136회</td>\n",
       "    </tr>\n",
       "    <tr>\n",
       "      <th>13</th>\n",
       "      <td>공부할때 듣는 음악 모음♬ (집중력 높이는 음악) |아련한, 슬픈, 잔잔한 음악 1시간</td>\n",
       "      <td>https://www.youtube.com/watch?v=IJ0kurZy1DE</td>\n",
       "      <td>8,730,407회</td>\n",
       "    </tr>\n",
       "    <tr>\n",
       "      <th>14</th>\n",
       "      <td>고3 수험생활 버티게 해준 노래들 【𝗺𝗼𝘁𝗲𝗺𝗼𝘁𝗲｜𝗣𝗹𝗮𝘆𝗹𝗶𝘀𝘁】</td>\n",
       "      <td>https://www.youtube.com/watch?v=5MICMjVjAhA</td>\n",
       "      <td>198,371회</td>\n",
       "    </tr>\n",
       "    <tr>\n",
       "      <th>15</th>\n",
       "      <td>[𝙋𝙡𝙖𝙮𝙡𝙞𝙨𝙩] 문과생이 수학 풀 때 듣는 팝송</td>\n",
       "      <td>https://www.youtube.com/watch?v=NymB3hmRg4w</td>\n",
       "      <td>180,578회</td>\n",
       "    </tr>\n",
       "    <tr>\n",
       "      <th>16</th>\n",
       "      <td>new 1시간 집중력 높이는 음악,공부할 때 듣는 음악, 차분해지고 집중력 높이는 노래</td>\n",
       "      <td>https://www.youtube.com/watch?v=C5bOu0OL6Ec</td>\n",
       "      <td>2,646,670회</td>\n",
       "    </tr>\n",
       "    <tr>\n",
       "      <th>17</th>\n",
       "      <td>[ 𝑷𝒍𝒂𝒚𝒍𝒊𝒔𝒕 ]  코딩할때 듣기 좋은 노래 • lofi type beat •...</td>\n",
       "      <td>https://www.youtube.com/watch?v=cbuZfY2S2UQ</td>\n",
       "      <td>17,752,541회</td>\n",
       "    </tr>\n",
       "    <tr>\n",
       "      <th>18</th>\n",
       "      <td>공부할때 듣기 좋은 음악🎵Relaxing Sleep Music &amp; Study,  R...</td>\n",
       "      <td>https://www.youtube.com/watch?v=pjqXFo73BzA</td>\n",
       "      <td>13,428,993회</td>\n",
       "    </tr>\n",
       "    <tr>\n",
       "      <th>19</th>\n",
       "      <td>수학 풀 때 듣는 노래📀 집중력을 올려주는 팝송 모음👩‍💻  [motemote│모트...</td>\n",
       "      <td>https://www.youtube.com/watch?v=OD38cX7smr0</td>\n",
       "      <td>1,507,904회</td>\n",
       "    </tr>\n",
       "    <tr>\n",
       "      <th>20</th>\n",
       "      <td>왕실 서열 2위가 공부할 때 듣는👑 가사 없는 클래식 음악🎻</td>\n",
       "      <td>https://www.youtube.com/watch?v=kuvFxFKYrCI</td>\n",
       "      <td>211,783회</td>\n",
       "    </tr>\n",
       "    <tr>\n",
       "      <th>21</th>\n",
       "      <td>공부할 때 듣는 가사 없는 애니 OST 🎹 【𝐦𝐨𝐭𝐞𝐦𝐨𝐭𝐞｜𝐩𝐥𝐚𝐲𝐥𝐢𝐬𝐭｜모트모...</td>\n",
       "      <td>https://www.youtube.com/watch?v=I3OFk6tF9cI</td>\n",
       "      <td>1,326,025회</td>\n",
       "    </tr>\n",
       "    <tr>\n",
       "      <th>22</th>\n",
       "      <td>[5시간]암기 잘되는 음악 | 암기 효율 299% | 외우지 않아도 암기 | ASM...</td>\n",
       "      <td>https://www.youtube.com/watch?v=Lk-Mf4iGyfY</td>\n",
       "      <td>4,061,601회</td>\n",
       "    </tr>\n",
       "  </tbody>\n",
       "</table>\n",
       "</div>"
      ],
      "text/plain": [
       "                                                   제목  \\\n",
       "0    공부할때 듣는 음악 모음♬ (집중력 높이는 음악) |아련한, 슬픈, 잔잔한 음악 1시간   \n",
       "1   [지브리 스튜디오] 공부할때, 일할때 듣기좋은 음악 모음 12시간(검은화면) (12...   \n",
       "2    [𝒑𝒍𝒂𝒚𝒍𝒊𝒔𝒕] 이번 과제는 진짜 A+ 각이다. | 과제할 때 듣기 좋은 노래 모음   \n",
       "3               🔥 공부할 때 듣는 장작 타는 소리 / Fireplace sound   \n",
       "4   강성태가 공부할 때 듣는 음악ㅣ피아노 연주곡 ASMR  📚 STUDY MUSIC f...   \n",
       "5   누구도 날 방해 못 해...🎻 귀족 빙의되는 클래식 음악🎹 [motemote│모트모...   \n",
       "6   24/7 Merry Christmas🎄성탄절을 기다리며 듣는 설레는 연주곡🎅 l H...   \n",
       "7   [inflaylist] 공부/작업 할 때 집중해서 듣기 좋은 음악✍ | 4 hour...   \n",
       "8                    [ 𝐩𝐥𝐚𝐲𝐥𝐢𝐬𝐭 ] 공부할 때 듣는 적당히 신나는 팝송   \n",
       "9   집중과 편안함에 도움을 주는 피아노 연주 ⎮ 중간광고없음 ⎮ 집중 공부 힐링 휴식 ...   \n",
       "10  🌈공부할 때 듣기 좋은 너의 이름은(君の名は) OST 전곡 모음 (piano ver...   \n",
       "11                    [playlist] 이거 들으면서 공부하면 2시간 쌉가능   \n",
       "12  내가 새벽 공부할 때 들으려고 만든 집중 잘 되는 음악📖🌙 [ 𝙉𝙞𝙜𝙝𝙩 & 𝙙𝙖𝙬...   \n",
       "13   공부할때 듣는 음악 모음♬ (집중력 높이는 음악) |아련한, 슬픈, 잔잔한 음악 1시간   \n",
       "14             고3 수험생활 버티게 해준 노래들 【𝗺𝗼𝘁𝗲𝗺𝗼𝘁𝗲｜𝗣𝗹𝗮𝘆𝗹𝗶𝘀𝘁】   \n",
       "15                       [𝙋𝙡𝙖𝙮𝙡𝙞𝙨𝙩] 문과생이 수학 풀 때 듣는 팝송   \n",
       "16   new 1시간 집중력 높이는 음악,공부할 때 듣는 음악, 차분해지고 집중력 높이는 노래   \n",
       "17  [ 𝑷𝒍𝒂𝒚𝒍𝒊𝒔𝒕 ]  코딩할때 듣기 좋은 노래 • lofi type beat •...   \n",
       "18  공부할때 듣기 좋은 음악🎵Relaxing Sleep Music & Study,  R...   \n",
       "19  수학 풀 때 듣는 노래📀 집중력을 올려주는 팝송 모음👩‍💻  [motemote│모트...   \n",
       "20                  왕실 서열 2위가 공부할 때 듣는👑 가사 없는 클래식 음악🎻   \n",
       "21  공부할 때 듣는 가사 없는 애니 OST 🎹 【𝐦𝐨𝐭𝐞𝐦𝐨𝐭𝐞｜𝐩𝐥𝐚𝐲𝐥𝐢𝐬𝐭｜모트모...   \n",
       "22  [5시간]암기 잘되는 음악 | 암기 효율 299% | 외우지 않아도 암기 | ASM...   \n",
       "\n",
       "                                            URL          조회수  \n",
       "0   https://www.youtube.com/watch?v=uw_elzX7Oo4  21,503,531회  \n",
       "1   https://www.youtube.com/watch?v=wnudr9qjrbA   6,353,230회  \n",
       "2   https://www.youtube.com/watch?v=1sTc7I20u3A   1,168,819회  \n",
       "3   https://www.youtube.com/watch?v=2TrgSww4Wf8   3,308,845회  \n",
       "4   https://www.youtube.com/watch?v=Vzv5HHehLg8  15,638,070회  \n",
       "5   https://www.youtube.com/watch?v=4wKTZsUp7TQ     739,650회  \n",
       "6   https://www.youtube.com/watch?v=eUTbn0XS-kg     202,171회  \n",
       "7   https://www.youtube.com/watch?v=qMwzWk81tVM     685,311회  \n",
       "8   https://www.youtube.com/watch?v=IO5u1m0TsJw   1,363,568회  \n",
       "9   https://www.youtube.com/watch?v=Q-iEfzaikBI  11,923,614회  \n",
       "10  https://www.youtube.com/watch?v=EkRuV-h6Bv0   1,198,171회  \n",
       "11  https://www.youtube.com/watch?v=R5nt_sChOKk     390,163회  \n",
       "12  https://www.youtube.com/watch?v=nA8TEa7LYjA     445,136회  \n",
       "13  https://www.youtube.com/watch?v=IJ0kurZy1DE   8,730,407회  \n",
       "14  https://www.youtube.com/watch?v=5MICMjVjAhA     198,371회  \n",
       "15  https://www.youtube.com/watch?v=NymB3hmRg4w     180,578회  \n",
       "16  https://www.youtube.com/watch?v=C5bOu0OL6Ec   2,646,670회  \n",
       "17  https://www.youtube.com/watch?v=cbuZfY2S2UQ  17,752,541회  \n",
       "18  https://www.youtube.com/watch?v=pjqXFo73BzA  13,428,993회  \n",
       "19  https://www.youtube.com/watch?v=OD38cX7smr0   1,507,904회  \n",
       "20  https://www.youtube.com/watch?v=kuvFxFKYrCI     211,783회  \n",
       "21  https://www.youtube.com/watch?v=I3OFk6tF9cI   1,326,025회  \n",
       "22  https://www.youtube.com/watch?v=Lk-Mf4iGyfY   4,061,601회  "
      ]
     },
     "execution_count": 17,
     "metadata": {},
     "output_type": "execute_result"
    }
   ],
   "source": [
    "youtubedic={\n",
    "    '제목':title_list,\n",
    "    'URL':url_list,\n",
    "    '조회수':view_list\n",
    "}\n",
    "youtubedf=pd.DataFrame(youtubedic)\n",
    "youtubedf\n",
    "# a=youtubedf['제목'][0]\n",
    "# a2=a.split()\n",
    "# type(a2)"
   ]
  },
  {
   "cell_type": "code",
   "execution_count": 9,
   "id": "a781d614",
   "metadata": {},
   "outputs": [],
   "source": [
    "youtubedf.to_excel(f'{keyword}.xlsx',index=False)"
   ]
  }
 ],
 "metadata": {
  "kernelspec": {
   "display_name": "Python 3",
   "language": "python",
   "name": "python3"
  },
  "language_info": {
   "codemirror_mode": {
    "name": "ipython",
    "version": 3
   },
   "file_extension": ".py",
   "mimetype": "text/x-python",
   "name": "python",
   "nbconvert_exporter": "python",
   "pygments_lexer": "ipython3",
   "version": "3.8.8"
  }
 },
 "nbformat": 4,
 "nbformat_minor": 5
}
